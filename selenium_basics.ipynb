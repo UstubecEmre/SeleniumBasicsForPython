{
 "cells": [
  {
   "cell_type": "markdown",
   "id": "f9162d3d",
   "metadata": {},
   "source": [
    "# 1. Selenium Basics\n",
    "\n",
    "## 1.1. What is the selenium?\n",
    "o Selenium is a web automation framework.\n",
    "\n",
    "o with Selenium we can visit and interact with a web site\n",
    "\n",
    "o open terminal => pip install selenium \n",
    "\n",
    "o We need a driver => Chrome, Firefox etc."
   ]
  },
  {
   "cell_type": "code",
   "execution_count": 6,
   "id": "defac9aa",
   "metadata": {},
   "outputs": [],
   "source": [
    "# install selenium and webdriver-manager first\n",
    "from selenium import webdriver\n",
    "from selenium.webdriver.chrome.service import Service\n",
    "from webdriver_manager.chrome import ChromeDriverManager"
   ]
  },
  {
   "cell_type": "code",
   "execution_count": null,
   "id": "0490d378",
   "metadata": {},
   "outputs": [],
   "source": [
    "# create a new instance of the Chrome driver\n",
    "web_driver = webdriver.Chrome(\n",
    "            service=Service(executable_path=ChromeDriverManager().install())\n",
    "        )\n",
    "\n",
    "# Open a web page\n",
    "web_url = \"https://w3schools.com\"\n",
    "web_driver.get(web_url)\n",
    "\n",
    "# Web Driver Title\n",
    "print(\"Web Driver Title: \", web_driver.title)"
   ]
  }
 ],
 "metadata": {
  "kernelspec": {
   "display_name": ".conda",
   "language": "python",
   "name": "python3"
  },
  "language_info": {
   "codemirror_mode": {
    "name": "ipython",
    "version": 3
   },
   "file_extension": ".py",
   "mimetype": "text/x-python",
   "name": "python",
   "nbconvert_exporter": "python",
   "pygments_lexer": "ipython3",
   "version": "3.11.11"
  }
 },
 "nbformat": 4,
 "nbformat_minor": 5
}
