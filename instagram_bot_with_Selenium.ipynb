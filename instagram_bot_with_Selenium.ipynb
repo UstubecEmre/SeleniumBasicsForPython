{
 "cells": [
  {
   "cell_type": "markdown",
   "id": "6f7d3966",
   "metadata": {},
   "source": [
    "# 1. Instagram Bot\n"
   ]
  },
  {
   "cell_type": "code",
   "execution_count": 16,
   "id": "9d6a427c",
   "metadata": {},
   "outputs": [],
   "source": [
    "# import libraries\n",
    "from selenium import webdriver\n",
    "from selenium.webdriver.chrome.service import Service\n",
    "from webdriver_manager.chrome import ChromeDriverManager\n",
    "import time\n",
    "from selenium.webdriver.common.by import By\n",
    "from selenium.webdriver.common.keys import Keys"
   ]
  },
  {
   "cell_type": "code",
   "execution_count": null,
   "id": "725b7797",
   "metadata": {},
   "outputs": [
    {
     "ename": "AttributeError",
     "evalue": "'Instagram' object has no attribute 'email'",
     "output_type": "error",
     "traceback": [
      "\u001b[1;31m---------------------------------------------------------------------------\u001b[0m",
      "\u001b[1;31mAttributeError\u001b[0m                            Traceback (most recent call last)",
      "Cell \u001b[1;32mIn[19], line 35\u001b[0m\n\u001b[0;32m     32\u001b[0m user_password \u001b[38;5;241m=\u001b[39m \u001b[38;5;28minput\u001b[39m(\u001b[38;5;124m\"\u001b[39m\u001b[38;5;124mEnter your Instagram password: \u001b[39m\u001b[38;5;124m\"\u001b[39m)\n\u001b[0;32m     34\u001b[0m instagram_bot \u001b[38;5;241m=\u001b[39m Instagram(username \u001b[38;5;241m=\u001b[39m username, password \u001b[38;5;241m=\u001b[39m user_password)\n\u001b[1;32m---> 35\u001b[0m \u001b[43minstagram_bot\u001b[49m\u001b[38;5;241;43m.\u001b[39;49m\u001b[43mlogin\u001b[49m\u001b[43m(\u001b[49m\u001b[43m)\u001b[49m   \n\u001b[0;32m     37\u001b[0m \u001b[38;5;28mprint\u001b[39m(\u001b[38;5;124m\"\u001b[39m\u001b[38;5;124mFollowers: \u001b[39m\u001b[38;5;130;01m\\n\u001b[39;00m\u001b[38;5;124m\"\u001b[39m)\n\u001b[0;32m     38\u001b[0m instagram_bot\u001b[38;5;241m.\u001b[39mget_followers()\n",
      "Cell \u001b[1;32mIn[19], line 17\u001b[0m, in \u001b[0;36mInstagram.login\u001b[1;34m(self)\u001b[0m\n\u001b[0;32m     14\u001b[0m username_input \u001b[38;5;241m=\u001b[39m \u001b[38;5;28mself\u001b[39m\u001b[38;5;241m.\u001b[39mweb_driver\u001b[38;5;241m.\u001b[39mfind_element(By\u001b[38;5;241m.\u001b[39mNAME, \u001b[38;5;124m\"\u001b[39m\u001b[38;5;124musername\u001b[39m\u001b[38;5;124m\"\u001b[39m)\n\u001b[0;32m     15\u001b[0m password_input \u001b[38;5;241m=\u001b[39m \u001b[38;5;28mself\u001b[39m\u001b[38;5;241m.\u001b[39mweb_driver\u001b[38;5;241m.\u001b[39mfind_element(By\u001b[38;5;241m.\u001b[39mNAME,\u001b[38;5;124m\"\u001b[39m\u001b[38;5;124mpassword\u001b[39m\u001b[38;5;124m\"\u001b[39m)\n\u001b[1;32m---> 17\u001b[0m username_input\u001b[38;5;241m.\u001b[39msend_keys(\u001b[38;5;28;43mself\u001b[39;49m\u001b[38;5;241;43m.\u001b[39;49m\u001b[43memail\u001b[49m)\n\u001b[0;32m     18\u001b[0m password_input\u001b[38;5;241m.\u001b[39msend_keys(\u001b[38;5;28mself\u001b[39m\u001b[38;5;241m.\u001b[39mpassword)\n\u001b[0;32m     19\u001b[0m submit_button \u001b[38;5;241m=\u001b[39m \u001b[38;5;28mself\u001b[39m\u001b[38;5;241m.\u001b[39mweb_driver\u001b[38;5;241m.\u001b[39mfind_element(By\u001b[38;5;241m.\u001b[39mXPATH, \u001b[38;5;124m'\u001b[39m\u001b[38;5;124m//*[@id=\u001b[39m\u001b[38;5;124m\"\u001b[39m\u001b[38;5;124mloginForm\u001b[39m\u001b[38;5;124m\"\u001b[39m\u001b[38;5;124m]/div[1]/div[3]/button/div\u001b[39m\u001b[38;5;124m'\u001b[39m)\n",
      "\u001b[1;31mAttributeError\u001b[0m: 'Instagram' object has no attribute 'email'"
     ]
    }
   ],
   "source": [
    "# Initialize the Chrome WebDriver\n",
    "\n",
    "class Instagram(object):\n",
    "    # define the constructor\n",
    "    def __init__(self, username, password):\n",
    "        self.username = username\n",
    "        self.password = password\n",
    "        self.web_driver = webdriver.Chrome(service = Service(ChromeDriverManager().install()))\n",
    "    \n",
    "    def login(self):\n",
    "        self.web_driver.get(\"https://www.instagram.com/accounts/login/\")\n",
    "        time.sleep(2)\n",
    "        \n",
    "        username_input = self.web_driver.find_element(By.NAME, \"username\")\n",
    "        password_input = self.web_driver.find_element(By.NAME,\"password\")\n",
    "        \n",
    "        username_input.send_keys(self.username)\n",
    "        password_input.send_keys(self.password)\n",
    "        submit_button = self.web_driver.find_element(By.XPATH, '//*[@id=\"loginForm\"]/div[1]/div[3]/button/div')\n",
    "        submit_button.click()\n",
    "        time.sleep(5)\n",
    "        \n",
    "\n",
    "    \n",
    "    def get_followers(self):\n",
    "        self.web_driver.get(f\"https://www.instagram.com/{self.username}\")\n",
    "        followers_link = self.web_driver.find_element(By.XPATH, '//*[@id=mount_0_0_7W\"]/div/div/div[2]/div/div/div[1]/div[2]/div/div[1]/section/main/div/header/section[3]/ul/li[2]/div/a/span')\n",
    "        followers_link.click()\n",
    "        \n",
    "        \n",
    "username = input(\"Enter your Instagram username: \")\n",
    "user_password = input(\"Enter your Instagram password: \")\n",
    "\n",
    "instagram_bot = Instagram(username = username, password = user_password)\n",
    "instagram_bot.login()   \n",
    "\n",
    "print(\"Followers: \\n\")\n",
    "instagram_bot.get_followers()"
   ]
  }
 ],
 "metadata": {
  "kernelspec": {
   "display_name": ".conda",
   "language": "python",
   "name": "python3"
  },
  "language_info": {
   "codemirror_mode": {
    "name": "ipython",
    "version": 3
   },
   "file_extension": ".py",
   "mimetype": "text/x-python",
   "name": "python",
   "nbconvert_exporter": "python",
   "pygments_lexer": "ipython3",
   "version": "3.11.11"
  }
 },
 "nbformat": 4,
 "nbformat_minor": 5
}
