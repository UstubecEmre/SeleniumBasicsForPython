{
 "cells": [
  {
   "cell_type": "markdown",
   "id": "6f7d3966",
   "metadata": {},
   "source": [
    "# 1. Instagram Bot\n"
   ]
  },
  {
   "cell_type": "code",
   "execution_count": 8,
   "id": "9d6a427c",
   "metadata": {},
   "outputs": [],
   "source": [
    "# import libraries\n",
    "from selenium import webdriver\n",
    "from selenium.webdriver.chrome.service import Service\n",
    "from webdriver_manager.chrome import ChromeDriverManager\n",
    "import time\n",
    "from selenium.webdriver.common.by import By\n",
    "from selenium.webdriver.common.keys import Keys"
   ]
  },
  {
   "cell_type": "code",
   "execution_count": 15,
   "id": "725b7797",
   "metadata": {},
   "outputs": [],
   "source": [
    "# Initialize the Chrome WebDriver\n",
    "\n",
    "class Instagram(object):\n",
    "    # define the constructor\n",
    "    def __init__(self, email, password):\n",
    "        self.email = email\n",
    "        self.password = password\n",
    "        self.web_driver = webdriver.Chrome(service = Service(ChromeDriverManager().install()))\n",
    "    \n",
    "    def login(self):\n",
    "        self.web_driver.get(\"https://www.instagram.com/accounts/login/\")\n",
    "        time.sleep(2)\n",
    "        \n",
    "        email_input = self.web_driver.find_element(By.NAME, \"username\")\n",
    "        password_input = self.web_driver.find_element(By.NAME,\"password\")\n",
    "        \n",
    "        email_input.send_keys(self.email)\n",
    "        password_input.send_keys(self.password)\n",
    "        submit_button = self.web_driver.find_element(By.XPATH, '//*[@id=\"loginForm\"]/div[1]/div[3]/button/div')\n",
    "        submit_button.click()\n",
    "        time.sleep(5)\n",
    "        \n",
    "\n",
    "user_email = input(\"Enter your Instagram email: \")\n",
    "user_password = input(\"Enter your Instagram password: \")\n",
    "\n",
    "instagram_bot = Instagram(user_email, user_password)\n",
    "instagram_bot.login()   "
   ]
  }
 ],
 "metadata": {
  "kernelspec": {
   "display_name": ".conda",
   "language": "python",
   "name": "python3"
  },
  "language_info": {
   "codemirror_mode": {
    "name": "ipython",
    "version": 3
   },
   "file_extension": ".py",
   "mimetype": "text/x-python",
   "name": "python",
   "nbconvert_exporter": "python",
   "pygments_lexer": "ipython3",
   "version": "3.11.11"
  }
 },
 "nbformat": 4,
 "nbformat_minor": 5
}
