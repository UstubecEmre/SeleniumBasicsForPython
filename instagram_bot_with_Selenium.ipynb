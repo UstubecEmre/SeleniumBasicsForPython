{
 "cells": [
  {
   "cell_type": "markdown",
   "id": "6f7d3966",
   "metadata": {},
   "source": [
    "# 1. Instagram Bot\n"
   ]
  },
  {
   "cell_type": "code",
   "execution_count": null,
   "id": "9d6a427c",
   "metadata": {},
   "outputs": [],
   "source": [
    "# import libraries\n",
    "from selenium import webdriver\n",
    "from selenium.webdriver.chrome.service import Service\n",
    "from webdriver_manager.chrome import ChromeDriverManager\n",
    "import time\n",
    "from selenium.webdriver.common.by import By\n",
    "from selenium.webdriver.common.keys import Keys"
   ]
  },
  {
   "cell_type": "code",
   "execution_count": null,
   "id": "725b7797",
   "metadata": {},
   "outputs": [],
   "source": [
    "# Initialize the Chrome WebDriver\n",
    "web_driver = webdriver.Chrome(service = Service(ChromeDriverManager().install()))"
   ]
  }
 ],
 "metadata": {
  "language_info": {
   "name": "python"
  }
 },
 "nbformat": 4,
 "nbformat_minor": 5
}
