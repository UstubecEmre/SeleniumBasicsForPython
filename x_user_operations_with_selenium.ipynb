{
 "cells": [
  {
   "cell_type": "markdown",
   "id": "656841e6",
   "metadata": {},
   "source": [
    "# 1. X (Twitter) Platform Operations"
   ]
  },
  {
   "cell_type": "code",
   "execution_count": null,
   "id": "a6ed0208",
   "metadata": {},
   "outputs": [],
   "source": [
    "# import necessary libraries\n",
    "from selenium import webdriver\n",
    "from selenium.webdriver.chrome.service import Service\n",
    "from selenium.webdriver.common.by import By\n",
    "from selenium.webdriver.common.keys import Keys\n",
    "from webdriver_manager.chrome import ChromeDriverManager\n",
    "import time\n",
    "\n",
    "\n",
    "\"\"\" \n",
    "if you are using Chrome, you can also use:\n",
    "    \n",
    "from selenium.webdriver.common.action_chains import ActionChains\n",
    "\"\"\"\n",
    "    \n",
    "\n",
    "def load_webdriver():\n",
    "    # load the Chrome WebDriver using WebDriver Manager\n",
    "    web_driver_profile = webdriver.ChromeOptions()\n",
    "    web_driver_profile.add_experimental_option('prefs', {'intl.accept_languages': 'en, en_US'})\n",
    "    driver = webdriver.Chrome(service = Service(ChromeDriverManager().install()), options=web_driver_profile)\n",
    "    return driver"
   ]
  },
  {
   "cell_type": "code",
   "execution_count": null,
   "id": "17e71128",
   "metadata": {},
   "outputs": [],
   "source": [
    "# Example usage of the load_webdriver function\n",
    "web_driver = load_webdriver()\n",
    "web_driver.get(\"https://www.google.com\")"
   ]
  },
  {
   "cell_type": "code",
   "execution_count": null,
   "id": "fcd6c92e",
   "metadata": {},
   "outputs": [
    {
     "ename": "NameError",
     "evalue": "name 'web_driver' is not defined",
     "output_type": "error",
     "traceback": [
      "\u001b[1;31m---------------------------------------------------------------------------\u001b[0m",
      "\u001b[1;31mNameError\u001b[0m                                 Traceback (most recent call last)",
      "Cell \u001b[1;32mIn[3], line 1\u001b[0m\n\u001b[1;32m----> 1\u001b[0m \u001b[43mweb_driver\u001b[49m\u001b[38;5;241m.\u001b[39mget(\u001b[38;5;124m\"\u001b[39m\u001b[38;5;124mhttps://www.google.com\u001b[39m\u001b[38;5;124m\"\u001b[39m)\n",
      "\u001b[1;31mNameError\u001b[0m: name 'web_driver' is not defined"
     ]
    }
   ],
   "source": [
    "# get a username and password from the user\n",
    "x_username = input(\"Enter Your X Account Username: \")\n",
    "x_password = input(\"Enter Your X Account Password: \")\n",
    "\n",
    "\n",
    "class X():\n",
    "    def __init__(self, username, password):\n",
    "        self.web_driver = web_driver\n",
    "        self.username = username\n",
    "        self.password = password\n",
    "        "
   ]
  }
 ],
 "metadata": {
  "kernelspec": {
   "display_name": ".conda",
   "language": "python",
   "name": "python3"
  },
  "language_info": {
   "codemirror_mode": {
    "name": "ipython",
    "version": 3
   },
   "file_extension": ".py",
   "mimetype": "text/x-python",
   "name": "python",
   "nbconvert_exporter": "python",
   "pygments_lexer": "ipython3",
   "version": "3.11.11"
  }
 },
 "nbformat": 4,
 "nbformat_minor": 5
}
