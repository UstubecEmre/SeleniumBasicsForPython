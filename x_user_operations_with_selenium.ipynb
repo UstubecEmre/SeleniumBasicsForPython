{
 "cells": [
  {
   "cell_type": "markdown",
   "id": "656841e6",
   "metadata": {},
   "source": [
    "# 1. X (Twitter) Platform Operations"
   ]
  },
  {
   "cell_type": "code",
   "execution_count": 49,
   "id": "a6ed0208",
   "metadata": {},
   "outputs": [],
   "source": [
    "# import necessary libraries\n",
    "from selenium import webdriver\n",
    "from selenium.webdriver.chrome.service import Service\n",
    "from selenium.webdriver.common.by import By\n",
    "from selenium.webdriver.common.keys import Keys\n",
    "from webdriver_manager.chrome import ChromeDriverManager\n",
    "import time\n",
    "\n",
    "\n",
    "\"\"\" \n",
    "if you are using Chrome, you can also use:\n",
    "    \n",
    "from selenium.webdriver.common.action_chains import ActionChains\n",
    "\"\"\"\n",
    "    \n",
    "\n",
    "def load_webdriver():\n",
    "    # load the Chrome WebDriver using WebDriver Manager\n",
    "    web_driver_profile = webdriver.ChromeOptions()\n",
    "    web_driver_profile.add_experimental_option('prefs', {'intl.accept_languages': 'en, en_US'})\n",
    "    driver = webdriver.Chrome(service = Service(ChromeDriverManager().install()), options=web_driver_profile)\n",
    "    return driver"
   ]
  },
  {
   "cell_type": "code",
   "execution_count": 50,
   "id": "17e71128",
   "metadata": {},
   "outputs": [
    {
     "data": {
      "text/plain": [
       "' \\nweb_driver.get(\"https://www.google.com\")\\n'"
      ]
     },
     "execution_count": 50,
     "metadata": {},
     "output_type": "execute_result"
    }
   ],
   "source": [
    "# Example usage of the load_webdriver function\n",
    "web_driver = load_webdriver()\n",
    "\"\"\" \n",
    "web_driver.get(\"https://www.google.com\")\n",
    "\"\"\""
   ]
  },
  {
   "cell_type": "code",
   "execution_count": null,
   "id": "fcd6c92e",
   "metadata": {},
   "outputs": [],
   "source": [
    "\n",
    "class X():\n",
    "    def __init__(self, username, password):\n",
    "        self.web_driver = load_webdriver()\n",
    "        self.username = username\n",
    "        self.password = password\n",
    "    \n",
    "    \n",
    "    def sign_in(self):\n",
    "        self.web_driver.get(\"https://x.com/i/flow/login\")\n",
    "        time.sleep(3)\n",
    "        # check \n",
    "        try:\n",
    "            # enter the username input field\n",
    "            x_username_input = self.web_driver.find_element(By.XPATH, \"//input[@name = 'text']\")\n",
    "            x_username_input.send_keys(self.username)\n",
    "            \n",
    "            x_username_input.send_keys(Keys.ENTER)\n",
    "            time.sleep(2)\n",
    "            \n",
    "            # enter the password input field\n",
    "            x_password_input = self.web_driver.find_element(By.XPATH, \"//input[@name='password']\")\n",
    "            x_password_input.send_keys(self.password)\n",
    "            time.sleep(1)\n",
    "            \n",
    "            # Old way\n",
    "            #x_password_input.send_keys(Keys.ENTER)\n",
    "            submit_button = self.web_driver.find_element(By.XPATH, \"//button[data-testid='LoginForm_Login_Button']\")\n",
    "            submit_button.click()\n",
    "            time.sleep(3)      \n",
    "            \n",
    "            # check login situation\n",
    "            if \"login\" in self.web_driver.current_url:\n",
    "                print(\"We are sorry, login failed. Please check your username or password.\")\n",
    "            else:\n",
    "                print(\"Login successful! Enjoy your time on X.\")\n",
    "        except Exception as err:\n",
    "            print(\"An error occurred during the login process:\", err)"
   ]
  },
  {
   "cell_type": "code",
   "execution_count": null,
   "id": "48d1e176",
   "metadata": {},
   "outputs": [
    {
     "name": "stdout",
     "output_type": "stream",
     "text": [
      "An error occurred during the login process: Message: no such element: Unable to locate element: {\"method\":\"xpath\",\"selector\":\"//input[@name='password']\"}\n",
      "  (Session info: chrome=137.0.7151.56); For documentation on this error, please visit: https://www.selenium.dev/documentation/webdriver/troubleshooting/errors#no-such-element-exception\n",
      "Stacktrace:\n",
      "\tGetHandleVerifier [0x0x1033763+63299]\n",
      "\tGetHandleVerifier [0x0x10337a4+63364]\n",
      "\t(No symbol) [0x0xe61113]\n",
      "\t(No symbol) [0x0xea987e]\n",
      "\t(No symbol) [0x0xea9c1b]\n",
      "\t(No symbol) [0x0xef2212]\n",
      "\t(No symbol) [0x0xece5c4]\n",
      "\t(No symbol) [0x0xeefa4a]\n",
      "\t(No symbol) [0x0xece376]\n",
      "\t(No symbol) [0x0xe9d6e0]\n",
      "\t(No symbol) [0x0xe9e544]\n",
      "\tGetHandleVerifier [0x0x128e033+2531347]\n",
      "\tGetHandleVerifier [0x0x1289332+2511634]\n",
      "\tGetHandleVerifier [0x0x1059eda+220858]\n",
      "\tGetHandleVerifier [0x0x104a528+156936]\n",
      "\tGetHandleVerifier [0x0x1050c5d+183357]\n",
      "\tGetHandleVerifier [0x0x103b6c8+95912]\n",
      "\tGetHandleVerifier [0x0x103b870+96336]\n",
      "\tGetHandleVerifier [0x0x102664a+9770]\n",
      "\tBaseThreadInitThunk [0x0x74b33744+36]\n",
      "\tRtlSetCurrentTransaction [0x0x77309e54+212]\n",
      "\tRtlSetCurrentTransaction [0x0x77309e1f+159]\n",
      "\n"
     ]
    }
   ],
   "source": [
    "# get a username and password from the user\n",
    "x_username = input(\"Enter Your X Account Username: \")\n",
    "x_password = input(\"Enter Your X Account Password: \")\n",
    "\n",
    "x_bot = X(x_username, x_password)\n",
    "\n",
    "x_bot.sign_in()"
   ]
  }
 ],
 "metadata": {
  "kernelspec": {
   "display_name": ".conda",
   "language": "python",
   "name": "python3"
  },
  "language_info": {
   "codemirror_mode": {
    "name": "ipython",
    "version": 3
   },
   "file_extension": ".py",
   "mimetype": "text/x-python",
   "name": "python",
   "nbconvert_exporter": "python",
   "pygments_lexer": "ipython3",
   "version": "3.11.11"
  }
 },
 "nbformat": 4,
 "nbformat_minor": 5
}
