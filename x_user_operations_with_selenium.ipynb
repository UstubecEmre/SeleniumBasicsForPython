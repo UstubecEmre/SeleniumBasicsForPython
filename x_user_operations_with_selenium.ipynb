{
 "cells": [
  {
   "cell_type": "markdown",
   "id": "656841e6",
   "metadata": {},
   "source": [
    "# 1. X (Twitter) Platform Operations"
   ]
  },
  {
   "cell_type": "code",
   "execution_count": 49,
   "id": "a6ed0208",
   "metadata": {},
   "outputs": [],
   "source": [
    "# import necessary libraries\n",
    "from selenium import webdriver\n",
    "from selenium.webdriver.chrome.service import Service\n",
    "from selenium.webdriver.common.by import By\n",
    "from selenium.webdriver.common.keys import Keys\n",
    "from webdriver_manager.chrome import ChromeDriverManager\n",
    "import time\n",
    "\n",
    "\n",
    "\"\"\" \n",
    "if you are using Chrome, you can also use:\n",
    "    \n",
    "from selenium.webdriver.common.action_chains import ActionChains\n",
    "\"\"\"\n",
    "    \n",
    "\n",
    "def load_webdriver():\n",
    "    # load the Chrome WebDriver using WebDriver Manager\n",
    "    web_driver_profile = webdriver.ChromeOptions()\n",
    "    web_driver_profile.add_experimental_option('prefs', {'intl.accept_languages': 'en, en_US'})\n",
    "    driver = webdriver.Chrome(service = Service(ChromeDriverManager().install()), options=web_driver_profile)\n",
    "    return driver"
   ]
  },
  {
   "cell_type": "code",
   "execution_count": 50,
   "id": "17e71128",
   "metadata": {},
   "outputs": [
    {
     "data": {
      "text/plain": [
       "' \\nweb_driver.get(\"https://www.google.com\")\\n'"
      ]
     },
     "execution_count": 50,
     "metadata": {},
     "output_type": "execute_result"
    }
   ],
   "source": [
    "# Example usage of the load_webdriver function\n",
    "web_driver = load_webdriver()\n",
    "\"\"\" \n",
    "web_driver.get(\"https://www.google.com\")\n",
    "\"\"\""
   ]
  },
  {
   "cell_type": "code",
   "execution_count": null,
   "id": "fcd6c92e",
   "metadata": {},
   "outputs": [],
   "source": [
    "\n",
    "class X():\n",
    "    def __init__(self, username, password):\n",
    "        self.web_driver = load_webdriver()\n",
    "        self.username = username\n",
    "        self.password = password\n",
    "    \n",
    "    \n",
    "    def sign_in(self):\n",
    "        self.web_driver.get(\"https://x.com/i/flow/login\")\n",
    "        time.sleep(3)\n",
    "        # check \n",
    "        try:\n",
    "            # enter the username input field\n",
    "            x_username_input = self.web_driver.find_element(By.XPATH, \"//input[@name = 'text']\")\n",
    "            x_username_input.send_keys(self.username)\n",
    "            \n",
    "            x_username_input.send_keys(Keys.ENTER)\n",
    "            time.sleep(2)\n",
    "            \n",
    "            # enter the password input field\n",
    "            x_password_input = self.web_driver.find_element(By.XPATH, \"//input[@name='password']\")\n",
    "            x_password_input.send_keys(self.password)\n",
    "            time.sleep(1)\n",
    "            \n",
    "            # Old way\n",
    "            #x_password_input.send_keys(Keys.ENTER)\n",
    "            submit_button = self.web_driver.find_element(By.XPATH, \"//button[@data-testid='LoginForm_Login_Button']\")\n",
    "            submit_button.click()\n",
    "            time.sleep(3)      \n",
    "            \n",
    "            # check login situation\n",
    "            if \"login\" in self.web_driver.current_url:\n",
    "                print(\"We are sorry, login failed. Please check your username or password.\")\n",
    "            else:\n",
    "                print(\"Login successful! Enjoy your time on X.\")\n",
    "        except Exception as err:\n",
    "            print(\"An error occurred during the login process:\", err)\n",
    "    \n",
    "    \n",
    "    def search_hashtag(self, hashtag):\n",
    "        search_input = self.web_driver.find_element(By.XPATH, \"//input[@data-test-id = 'SearchBox_Search_Input']\")\n",
    "        search_input.send_keys(f\"#{hashtag}\")\n",
    "        time.sleep(1)\n",
    "        search_input.send_keys(Keys.ENTER)\n",
    "        time.sleep(2)\n",
    "        \n",
    "        # scrollbar limit\n",
    "        loop_counter = 0\n",
    "        \n",
    "        # scroll to the bottom of the page to load more tweets\n",
    "        last_height = self.web_driver.execute_script(\"return document.documentElement.scrollHeight\")\n",
    "        \n",
    "        # infinite loop to scroll down until no more new tweets are loaded\n",
    "        while True:\n",
    "            \n",
    "            # set a limit to the number of scrolls\n",
    "            if loop_counter > 5:\n",
    "                self.web_driver.execute_script(\"window.scrollTo(0, document.documentElement.scrollHeight\")\n",
    "                time.sleep(4)\n",
    "                new_height = self.web_driver.execute_script(\"return document.documentElement.scrollHeight\")\n",
    "                \n",
    "                if new_height == last_height:\n",
    "                    break\n",
    "                last_height = new_height\n",
    "                loop_counter += 1\n",
    "        \n",
    "        #hash_list = self.web_driver.find_elements(By.XPATH, \"//div[@data-testid = 'cellInnerDiv']\")\n",
    "        hash_list = self.web_driver.find_elements(By.XPATH, \"//article[@data-testid='tweet']\")\n",
    "        print(\"Number of incoming tweets:\", len(hash_list))\n",
    "        for hash in hash_list:\n",
    "            print(\"*\"*50)\n",
    "            print(hash.text)\n",
    "            \n",
    "        "
   ]
  },
  {
   "cell_type": "code",
   "execution_count": null,
   "id": "48d1e176",
   "metadata": {},
   "outputs": [],
   "source": [
    "# get a username and password from the user\n",
    "x_username = input(\"Enter Your X Account Username: \")\n",
    "x_password = input(\"Enter Your X Account Password: \")\n",
    "\n",
    "x_bot = X(x_username, x_password)\n",
    "\n",
    "x_bot.sign_in()"
   ]
  }
 ],
 "metadata": {
  "kernelspec": {
   "display_name": ".conda",
   "language": "python",
   "name": "python3"
  },
  "language_info": {
   "codemirror_mode": {
    "name": "ipython",
    "version": 3
   },
   "file_extension": ".py",
   "mimetype": "text/x-python",
   "name": "python",
   "nbconvert_exporter": "python",
   "pygments_lexer": "ipython3",
   "version": "3.11.11"
  }
 },
 "nbformat": 4,
 "nbformat_minor": 5
}
