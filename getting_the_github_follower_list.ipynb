{
 "cells": [
  {
   "cell_type": "markdown",
   "id": "9eb209c4",
   "metadata": {},
   "source": [
    "# Github Follower List"
   ]
  },
  {
   "cell_type": "code",
   "execution_count": 16,
   "id": "2344c1aa",
   "metadata": {},
   "outputs": [],
   "source": [
    "# import libraries\n",
    "from selenium import webdriver\n",
    "from selenium.webdriver.chrome.service import Service\n",
    "from webdriver_manager.chrome import ChromeDriverManager\n",
    "from selenium.webdriver.common.by import By\n",
    "from selenium.webdriver.common.keys import Keys\n",
    "import time"
   ]
  },
  {
   "cell_type": "code",
   "execution_count": 18,
   "id": "23076047",
   "metadata": {},
   "outputs": [],
   "source": [
    "username = input(\"Enter your username: \")\n",
    "password = input(\"Enter your password: \")\n"
   ]
  },
  {
   "cell_type": "code",
   "execution_count": null,
   "id": "a5bff625",
   "metadata": {},
   "outputs": [],
   "source": [
    "class Github(object):\n",
    "    def __init__(self, username, password):\n",
    "        self.browser = webdriver.Chrome(service = Service(ChromeDriverManager().install()))\n",
    "        self.username = username\n",
    "        self.password = password\n",
    "        self.followers = []\n",
    "        self.following = []\n",
    "        \n",
    "        \n",
    "    def sign_in(self):\n",
    "        self.browser.get(\"https://github.com/login\")\n",
    "        time.sleep(2)\n",
    "\n",
    "        username_input = self.browser.find_element(By.NAME, \"login\")\n",
    "        password_input = self.browser.find_element(By.NAME,\"password\")\n",
    "\n",
    "        username_input.send_keys(self.username)\n",
    "        password_input.send_keys(self.password)\n",
    "        time.sleep(1)\n",
    "        \n",
    "        submit_button = self.browser.find_element(By.NAME, \"commit\")\n",
    "        submit_button.click()\n",
    "    \n",
    "    def get_followers(self):\n",
    "        self.browser.get(f\"https://github.com/{self.username}?tab=followers\")\n",
    "        time.sleep(2) # wait for the page to load\n",
    "        followers_item = self.browser.find_elements(By.CSS_SELECTOR, \".d-table-cell.table-fixed\")\n",
    "        \n",
    "        for follower in followers_item:\n",
    "            try:\n",
    "                name = follower.find_element(By.CSS_SELECTOR, \".f4.Link--primary\")\n",
    "                self.followers.append(name)\n",
    "            except Exception as err:\n",
    "                print(\"Error while fetching followers:\", err)\n",
    "                \n",
    "        time.sleep(2)  \n",
    "        \n",
    "    def get_following(self):       \n",
    "        self.browser.get(f\"https://github.com/{self.username}?tab=following\")\n",
    "        time.sleep(2)\n",
    "        following_item = self.browser.find_elements(By.CSS_SELECTOR, \".d-table-cell.col-3\")\n",
    "        for followed in following_item:\n",
    "            try:\n",
    "                name = followed.find_element(By.CSS_SELECTOR, \".f4.Link--primary\")\n",
    "                self.following.append(name)\n",
    "            except Exception as err:\n",
    "                print(\"Unexpected error occured. Error Detail: \",err)\n",
    "        time.sleep(2)"
   ]
  },
  {
   "cell_type": "code",
   "execution_count": null,
   "id": "0132647a",
   "metadata": {},
   "outputs": [
    {
     "ename": "NoSuchElementException",
     "evalue": "Message: no such element: Unable to locate element: {\"method\":\"css selector\",\"selector\":\".d-table-cell.table-fixed\"}\n  (Session info: chrome=137.0.7151.56); For documentation on this error, please visit: https://www.selenium.dev/documentation/webdriver/troubleshooting/errors#no-such-element-exception\nStacktrace:\n\tGetHandleVerifier [0x0x121f173+62931]\n\tGetHandleVerifier [0x0x121f1b4+62996]\n\t(No symbol) [0x0x1031053]\n\t(No symbol) [0x0x10797ae]\n\t(No symbol) [0x0x1079b4b]\n\t(No symbol) [0x0x10c21f2]\n\t(No symbol) [0x0x109e4f4]\n\t(No symbol) [0x0x10bf9e3]\n\t(No symbol) [0x0x109e2a6]\n\t(No symbol) [0x0x106d5f0]\n\t(No symbol) [0x0x106e464]\n\tGetHandleVerifier [0x0x1473463+2504899]\n\tGetHandleVerifier [0x0x146e892+2485490]\n\tGetHandleVerifier [0x0x124590a+220522]\n\tGetHandleVerifier [0x0x1236388+157672]\n\tGetHandleVerifier [0x0x123cb6d+184269]\n\tGetHandleVerifier [0x0x1227158+95672]\n\tGetHandleVerifier [0x0x1227300+96096]\n\tGetHandleVerifier [0x0x12121aa+9738]\n\tBaseThreadInitThunk [0x0x74b33744+36]\n\tRtlSetCurrentTransaction [0x0x77309e54+212]\n\tRtlSetCurrentTransaction [0x0x77309e1f+159]\n",
     "output_type": "error",
     "traceback": [
      "\u001b[1;31m---------------------------------------------------------------------------\u001b[0m",
      "\u001b[1;31mNoSuchElementException\u001b[0m                    Traceback (most recent call last)",
      "Cell \u001b[1;32mIn[20], line 8\u001b[0m\n\u001b[0;32m      5\u001b[0m github\u001b[38;5;241m.\u001b[39msign_in()\n\u001b[0;32m      7\u001b[0m \u001b[38;5;66;03m# call the get_followers method\u001b[39;00m\n\u001b[1;32m----> 8\u001b[0m \u001b[43mgithub\u001b[49m\u001b[38;5;241;43m.\u001b[39;49m\u001b[43mget_followers\u001b[49m\u001b[43m(\u001b[49m\u001b[43m)\u001b[49m\n\u001b[0;32m      9\u001b[0m \u001b[38;5;66;03m# print the followers\u001b[39;00m\n\u001b[0;32m     10\u001b[0m \u001b[38;5;28mprint\u001b[39m(\u001b[38;5;124mf\u001b[39m\u001b[38;5;124m\"\u001b[39m\u001b[38;5;124mFollowers:\u001b[39m\u001b[38;5;130;01m\\n\u001b[39;00m\u001b[38;5;132;01m{\u001b[39;00mgithub\u001b[38;5;241m.\u001b[39mfollowers\u001b[38;5;132;01m}\u001b[39;00m\u001b[38;5;124m\"\u001b[39m)\n",
      "Cell \u001b[1;32mIn[19], line 27\u001b[0m, in \u001b[0;36mGithub.get_followers\u001b[1;34m(self)\u001b[0m\n\u001b[0;32m     25\u001b[0m \u001b[38;5;28mself\u001b[39m\u001b[38;5;241m.\u001b[39mbrowser\u001b[38;5;241m.\u001b[39mget(\u001b[38;5;124mf\u001b[39m\u001b[38;5;124m\"\u001b[39m\u001b[38;5;124mhttps://github.com/\u001b[39m\u001b[38;5;132;01m{\u001b[39;00m\u001b[38;5;28mself\u001b[39m\u001b[38;5;241m.\u001b[39musername\u001b[38;5;132;01m}\u001b[39;00m\u001b[38;5;124m?tab=followers\u001b[39m\u001b[38;5;124m\"\u001b[39m)\n\u001b[0;32m     26\u001b[0m time\u001b[38;5;241m.\u001b[39msleep(\u001b[38;5;241m2\u001b[39m) \u001b[38;5;66;03m# wait for the page to load\u001b[39;00m\n\u001b[1;32m---> 27\u001b[0m followers_item \u001b[38;5;241m=\u001b[39m \u001b[38;5;28;43mself\u001b[39;49m\u001b[38;5;241;43m.\u001b[39;49m\u001b[43mbrowser\u001b[49m\u001b[38;5;241;43m.\u001b[39;49m\u001b[43mfind_element\u001b[49m\u001b[43m(\u001b[49m\u001b[43mBy\u001b[49m\u001b[38;5;241;43m.\u001b[39;49m\u001b[43mCSS_SELECTOR\u001b[49m\u001b[43m,\u001b[49m\u001b[43m \u001b[49m\u001b[38;5;124;43m\"\u001b[39;49m\u001b[38;5;124;43m.d-table-cell.table-fixed\u001b[39;49m\u001b[38;5;124;43m\"\u001b[39;49m\u001b[43m)\u001b[49m\n\u001b[0;32m     28\u001b[0m \u001b[38;5;28;01mfor\u001b[39;00m follower \u001b[38;5;129;01min\u001b[39;00m followers_item:\n\u001b[0;32m     29\u001b[0m     \u001b[38;5;28mself\u001b[39m\u001b[38;5;241m.\u001b[39mfollowers\u001b[38;5;241m.\u001b[39mappend(follower\u001b[38;5;241m.\u001b[39mfind_element(By\u001b[38;5;241m.\u001b[39mCSS_SELECTOR,\u001b[38;5;124m\"\u001b[39m\u001b[38;5;124m.f4.Link--primary\u001b[39m\u001b[38;5;124m\"\u001b[39m)\u001b[38;5;241m.\u001b[39mtext)\n",
      "File \u001b[1;32md:\\PythonSeleniumBasics\\.conda\\Lib\\site-packages\\selenium\\webdriver\\remote\\webdriver.py:914\u001b[0m, in \u001b[0;36mWebDriver.find_element\u001b[1;34m(self, by, value)\u001b[0m\n\u001b[0;32m    911\u001b[0m         \u001b[38;5;28;01mraise\u001b[39;00m NoSuchElementException(\u001b[38;5;124mf\u001b[39m\u001b[38;5;124m\"\u001b[39m\u001b[38;5;124mCannot locate relative element with: \u001b[39m\u001b[38;5;132;01m{\u001b[39;00mby\u001b[38;5;241m.\u001b[39mroot\u001b[38;5;132;01m}\u001b[39;00m\u001b[38;5;124m\"\u001b[39m)\n\u001b[0;32m    912\u001b[0m     \u001b[38;5;28;01mreturn\u001b[39;00m elements[\u001b[38;5;241m0\u001b[39m]\n\u001b[1;32m--> 914\u001b[0m \u001b[38;5;28;01mreturn\u001b[39;00m \u001b[38;5;28;43mself\u001b[39;49m\u001b[38;5;241;43m.\u001b[39;49m\u001b[43mexecute\u001b[49m\u001b[43m(\u001b[49m\u001b[43mCommand\u001b[49m\u001b[38;5;241;43m.\u001b[39;49m\u001b[43mFIND_ELEMENT\u001b[49m\u001b[43m,\u001b[49m\u001b[43m \u001b[49m\u001b[43m{\u001b[49m\u001b[38;5;124;43m\"\u001b[39;49m\u001b[38;5;124;43musing\u001b[39;49m\u001b[38;5;124;43m\"\u001b[39;49m\u001b[43m:\u001b[49m\u001b[43m \u001b[49m\u001b[43mby\u001b[49m\u001b[43m,\u001b[49m\u001b[43m \u001b[49m\u001b[38;5;124;43m\"\u001b[39;49m\u001b[38;5;124;43mvalue\u001b[39;49m\u001b[38;5;124;43m\"\u001b[39;49m\u001b[43m:\u001b[49m\u001b[43m \u001b[49m\u001b[43mvalue\u001b[49m\u001b[43m}\u001b[49m\u001b[43m)\u001b[49m[\u001b[38;5;124m\"\u001b[39m\u001b[38;5;124mvalue\u001b[39m\u001b[38;5;124m\"\u001b[39m]\n",
      "File \u001b[1;32md:\\PythonSeleniumBasics\\.conda\\Lib\\site-packages\\selenium\\webdriver\\remote\\webdriver.py:447\u001b[0m, in \u001b[0;36mWebDriver.execute\u001b[1;34m(self, driver_command, params)\u001b[0m\n\u001b[0;32m    445\u001b[0m response \u001b[38;5;241m=\u001b[39m \u001b[38;5;28mself\u001b[39m\u001b[38;5;241m.\u001b[39mcommand_executor\u001b[38;5;241m.\u001b[39mexecute(driver_command, params)\n\u001b[0;32m    446\u001b[0m \u001b[38;5;28;01mif\u001b[39;00m response:\n\u001b[1;32m--> 447\u001b[0m     \u001b[38;5;28;43mself\u001b[39;49m\u001b[38;5;241;43m.\u001b[39;49m\u001b[43merror_handler\u001b[49m\u001b[38;5;241;43m.\u001b[39;49m\u001b[43mcheck_response\u001b[49m\u001b[43m(\u001b[49m\u001b[43mresponse\u001b[49m\u001b[43m)\u001b[49m\n\u001b[0;32m    448\u001b[0m     response[\u001b[38;5;124m\"\u001b[39m\u001b[38;5;124mvalue\u001b[39m\u001b[38;5;124m\"\u001b[39m] \u001b[38;5;241m=\u001b[39m \u001b[38;5;28mself\u001b[39m\u001b[38;5;241m.\u001b[39m_unwrap_value(response\u001b[38;5;241m.\u001b[39mget(\u001b[38;5;124m\"\u001b[39m\u001b[38;5;124mvalue\u001b[39m\u001b[38;5;124m\"\u001b[39m, \u001b[38;5;28;01mNone\u001b[39;00m))\n\u001b[0;32m    449\u001b[0m     \u001b[38;5;28;01mreturn\u001b[39;00m response\n",
      "File \u001b[1;32md:\\PythonSeleniumBasics\\.conda\\Lib\\site-packages\\selenium\\webdriver\\remote\\errorhandler.py:232\u001b[0m, in \u001b[0;36mErrorHandler.check_response\u001b[1;34m(self, response)\u001b[0m\n\u001b[0;32m    230\u001b[0m         alert_text \u001b[38;5;241m=\u001b[39m value[\u001b[38;5;124m\"\u001b[39m\u001b[38;5;124malert\u001b[39m\u001b[38;5;124m\"\u001b[39m]\u001b[38;5;241m.\u001b[39mget(\u001b[38;5;124m\"\u001b[39m\u001b[38;5;124mtext\u001b[39m\u001b[38;5;124m\"\u001b[39m)\n\u001b[0;32m    231\u001b[0m     \u001b[38;5;28;01mraise\u001b[39;00m exception_class(message, screen, stacktrace, alert_text)  \u001b[38;5;66;03m# type: ignore[call-arg]  # mypy is not smart enough here\u001b[39;00m\n\u001b[1;32m--> 232\u001b[0m \u001b[38;5;28;01mraise\u001b[39;00m exception_class(message, screen, stacktrace)\n",
      "\u001b[1;31mNoSuchElementException\u001b[0m: Message: no such element: Unable to locate element: {\"method\":\"css selector\",\"selector\":\".d-table-cell.table-fixed\"}\n  (Session info: chrome=137.0.7151.56); For documentation on this error, please visit: https://www.selenium.dev/documentation/webdriver/troubleshooting/errors#no-such-element-exception\nStacktrace:\n\tGetHandleVerifier [0x0x121f173+62931]\n\tGetHandleVerifier [0x0x121f1b4+62996]\n\t(No symbol) [0x0x1031053]\n\t(No symbol) [0x0x10797ae]\n\t(No symbol) [0x0x1079b4b]\n\t(No symbol) [0x0x10c21f2]\n\t(No symbol) [0x0x109e4f4]\n\t(No symbol) [0x0x10bf9e3]\n\t(No symbol) [0x0x109e2a6]\n\t(No symbol) [0x0x106d5f0]\n\t(No symbol) [0x0x106e464]\n\tGetHandleVerifier [0x0x1473463+2504899]\n\tGetHandleVerifier [0x0x146e892+2485490]\n\tGetHandleVerifier [0x0x124590a+220522]\n\tGetHandleVerifier [0x0x1236388+157672]\n\tGetHandleVerifier [0x0x123cb6d+184269]\n\tGetHandleVerifier [0x0x1227158+95672]\n\tGetHandleVerifier [0x0x1227300+96096]\n\tGetHandleVerifier [0x0x12121aa+9738]\n\tBaseThreadInitThunk [0x0x74b33744+36]\n\tRtlSetCurrentTransaction [0x0x77309e54+212]\n\tRtlSetCurrentTransaction [0x0x77309e1f+159]\n"
     ]
    }
   ],
   "source": [
    "# create an instance of the Github class\n",
    "github = Github(username=username, password=password)\n",
    "\n",
    "# call the sign_in method\n",
    "github.sign_in()\n",
    "\n",
    "# call the get_followers method\n",
    "github.get_followers()\n",
    "# print the followers\n",
    "print(f\"Followers:\\n{github.followers}\")\n",
    "print(\"*\"*50)\n",
    "\n",
    "# call the get_following method\n",
    "github.get_following()\n",
    "\n",
    "# print the following\n",
    "print(f\"Github Following:\\n{github.following}\")"
   ]
  }
 ],
 "metadata": {
  "kernelspec": {
   "display_name": ".conda",
   "language": "python",
   "name": "python3"
  },
  "language_info": {
   "codemirror_mode": {
    "name": "ipython",
    "version": 3
   },
   "file_extension": ".py",
   "mimetype": "text/x-python",
   "name": "python",
   "nbconvert_exporter": "python",
   "pygments_lexer": "ipython3",
   "version": "3.11.11"
  }
 },
 "nbformat": 4,
 "nbformat_minor": 5
}
