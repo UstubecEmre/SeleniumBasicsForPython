{
 "cells": [
  {
   "cell_type": "markdown",
   "id": "9eb209c4",
   "metadata": {},
   "source": [
    "# Github Follower List"
   ]
  },
  {
   "cell_type": "code",
   "execution_count": null,
   "id": "2344c1aa",
   "metadata": {},
   "outputs": [],
   "source": [
    "# import libraries\n",
    "from selenium import webdriver\n",
    "from selenium.webdriver.chrome.service import Service\n",
    "from webdriver_manager.chrome import ChromeDriverManager\n",
    "from selenium.webdriver.common.by import By\n",
    "from selenium.webdriver.common.keys import Keys\n",
    "import time"
   ]
  },
  {
   "cell_type": "code",
   "execution_count": null,
   "id": "23076047",
   "metadata": {},
   "outputs": [],
   "source": [
    "username = input(\"Enter your username: \")\n",
    "password = input(\"Enter your password: \")\n"
   ]
  },
  {
   "cell_type": "code",
   "execution_count": null,
   "id": "a5bff625",
   "metadata": {},
   "outputs": [],
   "source": [
    "class Github(object):\n",
    "    def __init__(self, username, password):\n",
    "        self.browser = webdriver.Chrome(service = Service(ChromeDriverManager().install()))\n",
    "        self.username = username\n",
    "        self.password = password\n",
    "        \n",
    "    def sign_in(self):\n",
    "        self.browser.get(\"https://github.com/login\")\n",
    "        time.sleep(2)\n",
    "\n",
    "        username_input = self.browser.find_element(By.NAME, \"login\")\n",
    "        password_input = self.browser.find_element(By.NAME,\"password\")\n",
    "\n",
    "        username_input.send_keys(self.username)\n",
    "        password_input.send_keys(self.password)\n",
    "        time.sleep(1)\n",
    "        \n",
    "        submit_button = self.browser.find_element(By.NAME, \"commit\")\n",
    "        submit_button.click()\n",
    "        "
   ]
  }
 ],
 "metadata": {
  "kernelspec": {
   "display_name": ".conda",
   "language": "python",
   "name": "python3"
  },
  "language_info": {
   "codemirror_mode": {
    "name": "ipython",
    "version": 3
   },
   "file_extension": ".py",
   "mimetype": "text/x-python",
   "name": "python",
   "nbconvert_exporter": "python",
   "pygments_lexer": "ipython3",
   "version": "3.11.11"
  }
 },
 "nbformat": 4,
 "nbformat_minor": 5
}
