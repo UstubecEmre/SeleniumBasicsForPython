{
 "cells": [
  {
   "cell_type": "markdown",
   "id": "9eb209c4",
   "metadata": {},
   "source": [
    "# Github Follower List"
   ]
  },
  {
   "cell_type": "code",
   "execution_count": 29,
   "id": "2344c1aa",
   "metadata": {},
   "outputs": [],
   "source": [
    "# import libraries\n",
    "from selenium import webdriver\n",
    "from selenium.webdriver.chrome.service import Service\n",
    "from webdriver_manager.chrome import ChromeDriverManager\n",
    "from selenium.webdriver.common.by import By\n",
    "from selenium.webdriver.common.keys import Keys\n",
    "import time"
   ]
  },
  {
   "cell_type": "code",
   "execution_count": 30,
   "id": "23076047",
   "metadata": {},
   "outputs": [],
   "source": [
    "username = input(\"Enter your username: \")\n",
    "password = input(\"Enter your password: \")\n"
   ]
  },
  {
   "cell_type": "code",
   "execution_count": 34,
   "id": "a5bff625",
   "metadata": {},
   "outputs": [],
   "source": [
    "class Github(object):\n",
    "    def __init__(self, username, password):\n",
    "        self.browser = webdriver.Chrome(service = Service(ChromeDriverManager().install()))\n",
    "        self.username = username\n",
    "        self.password = password\n",
    "        self.followers = []\n",
    "        self.following = []\n",
    "        \n",
    "        \n",
    "    def sign_in(self):\n",
    "        self.browser.get(\"https://github.com/login\")\n",
    "        time.sleep(2)\n",
    "\n",
    "        username_input = self.browser.find_element(By.NAME, \"login\")\n",
    "        password_input = self.browser.find_element(By.NAME,\"password\")\n",
    "\n",
    "        username_input.send_keys(self.username)\n",
    "        password_input.send_keys(self.password)\n",
    "        time.sleep(1)\n",
    "        \n",
    "        submit_button = self.browser.find_element(By.NAME, \"commit\")\n",
    "        submit_button.click()\n",
    "    \n",
    "    def get_followers(self):\n",
    "        self.browser.get(f\"https://github.com/{self.username}?tab=followers\")\n",
    "        time.sleep(2) # wait for the page to load\n",
    "        followers_item = self.browser.find_elements(By.CSS_SELECTOR, \".d-table-cell.col-3\")\n",
    "        \n",
    "        for follower in followers_item:\n",
    "            try:\n",
    "                name = follower.find_element(By.CSS_SELECTOR, \".f4.Link--primary\").text\n",
    "                self.followers.append(name)\n",
    "            except Exception as err:\n",
    "                print(\"Error while fetching followers:\", err)\n",
    "                \n",
    "        time.sleep(2)  \n",
    "        \n",
    "    def get_following(self):       \n",
    "        self.browser.get(f\"https://github.com/{self.username}?tab=following\")\n",
    "        time.sleep(2)\n",
    "        following_item = self.browser.find_elements(By.CSS_SELECTOR, \".d-table-cell.col-3\")\n",
    "        for followed in following_item:\n",
    "            try:\n",
    "                name = followed.find_element(By.CSS_SELECTOR, \".f4.Link--primary\").text\n",
    "                self.following.append(name)\n",
    "            except Exception as err:\n",
    "                print(\"Unexpected error occured. Error Detail: \",err)\n",
    "        time.sleep(2)\n",
    "        \n",
    "    def quit(self):\n",
    "        self.browser.quit()"
   ]
  },
  {
   "cell_type": "code",
   "execution_count": null,
   "id": "0132647a",
   "metadata": {},
   "outputs": [
    {
     "name": "stdout",
     "output_type": "stream",
     "text": [
      "Followers:\n",
      "['Velimir Đurković', 'Vefa Akdemir', '𝑰𝒍𝒚𝒆𝒔 ᴾᴿᴼ乡', 'Cogito Ergo Sum', 'Ömer Mert KAYA', 'Hüseyin Aydın']\n",
      "**************************************************\n",
      "Github Following:\n",
      "['Hakan Bayraktar', 'Göker Güner', 'Vahit Keskin', '', 'Dr. Murat ALTUN', 'Gregory Hogg', 'Mosh Hamedani', 'Tim Ruscica', 'Luke Barousse', 'Angela Yu', 'Alex The Analyst', 'Atıl Samancıoğlu', 'Zafer CÖMERT', 'Fatih Çakıroğlu', '', 'Mustafa Murat Coşkun', 'Sadık Turan', 'Engin Demirog']\n"
     ]
    }
   ],
   "source": [
    "# create an instance of the Github class\n",
    "github = Github(username=username, password=password)\n",
    "\n",
    "# call the sign_in method\n",
    "github.sign_in()\n",
    "\n",
    "# call the get_followers method\n",
    "github.get_followers()\n",
    "# print the followers\n",
    "print(f\"Your Followers:\\n{github.followers}\")\n",
    "print(\"*\"*50)\n",
    "\n",
    "# call the get_following method\n",
    "github.get_following()\n",
    "\n",
    "# print the following\n",
    "print(f\"Your Followings:\\n{github.following}\")\n",
    "\n",
    "# call the quit method to close the browser\n",
    "github.quit()"
   ]
  }
 ],
 "metadata": {
  "kernelspec": {
   "display_name": ".conda",
   "language": "python",
   "name": "python3"
  },
  "language_info": {
   "codemirror_mode": {
    "name": "ipython",
    "version": 3
   },
   "file_extension": ".py",
   "mimetype": "text/x-python",
   "name": "python",
   "nbconvert_exporter": "python",
   "pygments_lexer": "ipython3",
   "version": "3.11.11"
  }
 },
 "nbformat": 4,
 "nbformat_minor": 5
}
