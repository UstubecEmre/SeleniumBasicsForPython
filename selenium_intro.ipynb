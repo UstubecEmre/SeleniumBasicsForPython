{
 "cells": [
  {
   "cell_type": "markdown",
   "id": "28140f1d",
   "metadata": {},
   "source": [
    "# 1. Selenium Intro\n",
    "\"In this chapter, we will use the Selenium module and go through some examples.\""
   ]
  }
 ],
 "metadata": {
  "language_info": {
   "name": "python"
  }
 },
 "nbformat": 4,
 "nbformat_minor": 5
}
