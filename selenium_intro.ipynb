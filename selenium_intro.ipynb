{
 "cells": [
  {
   "cell_type": "markdown",
   "id": "28140f1d",
   "metadata": {},
   "source": [
    "# 1. Selenium Intro\n",
    "In this chapter, we will use the Selenium module and go through some examples.\n",
    "Necessary libraries are:\n",
    "o webdriver\n",
    "\n",
    "o Service\n",
    "\n",
    "o chromeDriverManager"
   ]
  },
  {
   "cell_type": "code",
   "execution_count": 2,
   "id": "5f50a71f",
   "metadata": {},
   "outputs": [],
   "source": [
    "# import necessary modules\n",
    "import time\n",
    "from selenium import webdriver\n",
    "from selenium.webdriver.chrome.service import Service\n",
    "from webdriver_manager.chrome import ChromeDriverManager"
   ]
  },
  {
   "cell_type": "code",
   "execution_count": null,
   "id": "362caed1",
   "metadata": {},
   "outputs": [],
   "source": [
    "web_driver = webdriver.Chrome(servive = Service(ChromeDriverManager().install()))\n",
    "\n",
    "url = input(\"Enter the URL of the website to open: \")\n",
    "web_driver.get(url)\n",
    "# Wait for the page to load\n",
    "time.sleep(2)\n",
    "\n",
    "# maximize the browser window\n",
    "web_driver.maximize_window()\n",
    "\n",
    "# Set the time to wait for the page to load\n",
    "time.sleep(5)\n",
    "print(\"Title of the page is:\", web_driver.title)\n",
    "\n",
    "# if you want to take a screenshot\n",
    "# web_driver.save_screenshot('your_website_screenshot.png') \n",
    "\n",
    "time.sleep(2)\n",
    "# Close the browser\n",
    "\n",
    "new_url_input = input('New URL to open')\n",
    "web_driver.get(new_url_input)\n",
    "time.sleep(5)\n",
    "\n",
    "web_driver.back() # go back to the previous page\n",
    "time.sleep(10)\n",
    "\n",
    "web_driver.quit()\n"
   ]
  }
 ],
 "metadata": {
  "kernelspec": {
   "display_name": ".conda",
   "language": "python",
   "name": "python3"
  },
  "language_info": {
   "codemirror_mode": {
    "name": "ipython",
    "version": 3
   },
   "file_extension": ".py",
   "mimetype": "text/x-python",
   "name": "python",
   "nbconvert_exporter": "python",
   "pygments_lexer": "ipython3",
   "version": "3.11.11"
  }
 },
 "nbformat": 4,
 "nbformat_minor": 5
}
